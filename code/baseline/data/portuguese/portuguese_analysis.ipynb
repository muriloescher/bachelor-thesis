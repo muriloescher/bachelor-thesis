{
 "cells": [
  {
   "cell_type": "markdown",
   "id": "e46790ce",
   "metadata": {},
   "source": [
    "# Portuguese Dataset Analysis\n",
    "This notebook swaps columns 2 and 3 of the original file, shuffles the lines, creates two datasets, and calculates AR/ER/IR/OR ending proportions for all three."
   ]
  },
  {
   "cell_type": "code",
   "execution_count": 17,
   "id": "2446222f",
   "metadata": {},
   "outputs": [
    {
     "name": "stdout",
     "output_type": "stream",
     "text": [
      "Inverted columns and saved to por\n"
     ]
    }
   ],
   "source": [
    "# Step 1: Invert columns\n",
    "input_file = 'por_original'\n",
    "output_file = 'por'\n",
    "with open(input_file, 'r', encoding='utf8') as fin, open(output_file, 'w', encoding='utf8') as fout:\n",
    "    for line in fin:\n",
    "        parts = line.strip().split('\\t')\n",
    "        if len(parts) == 3:\n",
    "            lemma, form, msd = parts\n",
    "            fout.write(f'{lemma}\\t{msd}\\t{form}\\n')\n",
    "print('Inverted columns and saved to por')"
   ]
  },
  {
   "cell_type": "code",
   "execution_count": 28,
   "id": "4c08988a",
   "metadata": {},
   "outputs": [
    {
     "name": "stdout",
     "output_type": "stream",
     "text": [
      "Train: 10000 lines, Dev: 1000 lines, Test: 1000 lines.\n"
     ]
    }
   ],
   "source": [
    "# Step 2: Lemma-based stratified splits by verb ending, maintain proportions, no lemma overlap, exact line counts\n",
    "import random\n",
    "from collections import defaultdict\n",
    "import math\n",
    "\n",
    "input_file = \"por\"\n",
    "train_file = \"../por.trn\"\n",
    "dev_file = \"../por.dev\"\n",
    "test_file = \"../por.tst\"\n",
    "train_size = 10000\n",
    "dev_size = 1000\n",
    "test_size = 1000\n",
    "\n",
    "# Read all lines and group by lemma\n",
    "with open(input_file, \"r\", encoding=\"utf-8\") as f:\n",
    "    lines = f.readlines()\n",
    "\n",
    "lemma2lines = defaultdict(list)\n",
    "lemma2ending = {}\n",
    "for line in lines:\n",
    "    lemma = line.split('\\t')[0]\n",
    "    lemma2lines[lemma].append(line)\n",
    "    # Determine ending\n",
    "    if lemma.endswith('ar'):\n",
    "        lemma2ending[lemma] = 'ar'\n",
    "    elif lemma.endswith('er'):\n",
    "        lemma2ending[lemma] = 'er'\n",
    "    elif lemma.endswith('ir'):\n",
    "        lemma2ending[lemma] = 'ir'\n",
    "    elif lemma.endswith('or') or lemma.endswith('ôr'):\n",
    "        lemma2ending[lemma] = 'or'\n",
    "    else:\n",
    "        lemma2ending[lemma] = 'other'\n",
    "\n",
    "# Group lemmas by ending\n",
    "ending2lemmas = defaultdict(list)\n",
    "for lemma, ending in lemma2ending.items():\n",
    "    ending2lemmas[ending].append(lemma)\n",
    "\n",
    "# Proportion of each ending in the full set (by lemma count)\n",
    "total_lemmas = sum(len(lemmas) for lemmas in ending2lemmas.values())\n",
    "ending2prop = {ending: len(lemmas)/total_lemmas for ending, lemmas in ending2lemmas.items()}\n",
    "\n",
    "# Target lemma counts per split\n",
    "splits = {'train': train_size, 'dev': dev_size, 'test': test_size}\n",
    "total_lines = train_size + dev_size + test_size\n",
    "split_props = {split: splits[split]/total_lines for split in splits}\n",
    "ending2target_lemmas = {split: {ending: int(len(ending2lemmas[ending])*split_props[split]) for ending in ending2lemmas} for split in splits}\n",
    "# Adjust for rounding errors\n",
    "for ending in ending2lemmas:\n",
    "    total = sum(ending2target_lemmas[split][ending] for split in splits)\n",
    "    diff = len(ending2lemmas[ending]) - total\n",
    "    ending2target_lemmas['train'][ending] += diff\n",
    "\n",
    "# Assign lemmas to splits\n",
    "split_lemmas = {'train': set(), 'dev': set(), 'test': set()}\n",
    "random.seed(42)\n",
    "for ending, lemmas in ending2lemmas.items():\n",
    "    random.shuffle(lemmas)\n",
    "    idx = 0\n",
    "    for split in ['train', 'dev', 'test']:\n",
    "        n = ending2target_lemmas[split][ending]\n",
    "        split_lemmas[split].update(lemmas[idx:idx+n])\n",
    "        idx += n\n",
    "\n",
    "# Collect lines for each split\n",
    "split_lines = {'train': [], 'dev': [], 'test': []}\n",
    "for split in ['train', 'dev', 'test']:\n",
    "    for lemma in split_lemmas[split]:\n",
    "        split_lines[split].extend(lemma2lines[lemma])\n",
    "    random.shuffle(split_lines[split])\n",
    "    split_lines[split] = split_lines[split][:splits[split]]  # trim to exact size\n",
    "\n",
    "# Write splits\n",
    "with open(train_file, \"w\", encoding=\"utf-8\") as f:\n",
    "    f.writelines(split_lines['train'])\n",
    "with open(dev_file, \"w\", encoding=\"utf-8\") as f:\n",
    "    f.writelines(split_lines['dev'])\n",
    "with open(test_file, \"w\", encoding=\"utf-8\") as f:\n",
    "    f.writelines(split_lines['test'])\n",
    "\n",
    "print(f\"Train: {len(split_lines['train'])} lines, Dev: {len(split_lines['dev'])} lines, Test: {len(split_lines['test'])} lines.\")"
   ]
  },
  {
   "cell_type": "code",
   "execution_count": 29,
   "id": "24553787",
   "metadata": {},
   "outputs": [],
   "source": [
    "# Step 3: Calculate AR/ER/IR/OR ending proportions\n",
    "def ending_proportion(lines):\n",
    "    ar, er, ir, orr = 0, 0, 0, 0\n",
    "    for line in lines:\n",
    "        parts = line.strip().split('\\t')\n",
    "        if len(parts) >= 1:\n",
    "            lemma = parts[0]\n",
    "            if lemma.endswith('ar'):\n",
    "                ar += 1\n",
    "            elif lemma.endswith('er'):\n",
    "                er += 1\n",
    "            elif lemma.endswith('ir'):\n",
    "                ir += 1\n",
    "            elif lemma.endswith('or') or lemma.endswith('ôr'):\n",
    "                orr += 1\n",
    "            else:\n",
    "                print(f'Unexpected ending in lemma: {lemma}')\n",
    "    total = ar + er + ir + orr\n",
    "    return {'AR': ar, 'ER': er, 'IR': ir, 'OR': orr, 'Total': total,\n",
    "            'AR%': ar/total if total else 0,\n",
    "            'ER%': er/total if total else 0,\n",
    "            'IR%': ir/total if total else 0,\n",
    "            'OR%': orr/total if total else 0}\n",
    "\n",
    "with open(train_file, 'r', encoding='utf8') as f:\n",
    "    train_lines = f.readlines()\n",
    "with open(dev_file, 'r', encoding='utf8') as f:\n",
    "    dev_lines = f.readlines()\n",
    "with open(test_file, 'r', encoding='utf8') as f:\n",
    "    test_lines = f.readlines()\n",
    "# write to output file\n",
    "with open('ending_proportions.txt', 'w', encoding='utf-8') as f:\n",
    "    orig = ending_proportion(lines)\n",
    "    train = ending_proportion(train_lines)\n",
    "    dev = ending_proportion(dev_lines)\n",
    "    test = ending_proportion(test_lines)\n",
    "    for name, props in zip(['Original proportions', 'Training set proportions', 'Development set proportions', 'Test set proportions'], [orig, train, dev, test]):\n",
    "        f.write(f\"{name}:\\n\")\n",
    "        f.write(f\"  Total: {props['Total']}\\n\")\n",
    "        f.write(f\"  AR: {props['AR']} ({props['AR%']*100:.2f}%)\\n\")\n",
    "        f.write(f\"  ER: {props['ER']} ({props['ER%']*100:.2f}%)\\n\")\n",
    "        f.write(f\"  IR: {props['IR']} ({props['IR%']*100:.2f}%)\\n\")\n",
    "        f.write(f\"  OR: {props['OR']} ({props['OR%']*100:.2f}%)\\n\\n\")"
   ]
  },
  {
   "cell_type": "markdown",
   "id": "5e6f0ce4",
   "metadata": {},
   "source": [
    "## Results\n",
    "The AR/ER/IR ending proportions for the original file, dataset1, and dataset2 are printed above."
   ]
  },
  {
   "cell_type": "code",
   "execution_count": 31,
   "id": "452ac269",
   "metadata": {},
   "outputs": [
    {
     "name": "stdout",
     "output_type": "stream",
     "text": [
      "Common lemmas in train and dev: 0\n",
      "Common lemmas in train and test: 0\n"
     ]
    }
   ],
   "source": [
    "train_file = \"../por.trn\"\n",
    "dev_file = \"../por.dev\"\n",
    "test_file = \"../por.tst\"\n",
    "\n",
    "# check for common lemmas in train and dev\n",
    "with open(train_file, 'r', encoding='utf8') as f:\n",
    "    train_lines = f.readlines()\n",
    "with open(dev_file, 'r', encoding='utf8') as f:\n",
    "    dev_lines = f.readlines()\n",
    "train_lemmas = set(line.split('\\t')[0] for line in train_lines)\n",
    "dev_lemmas = set(line.split('\\t')[0] for line in dev_lines)\n",
    "common_lemmas = train_lemmas.intersection(dev_lemmas)\n",
    "print(f'Common lemmas in train and dev: {len(common_lemmas)}')\n",
    "# check for common lemmas in train and test\n",
    "with open(test_file, 'r', encoding='utf8') as f:\n",
    "    test_lines = f.readlines()\n",
    "test_lemmas = set(line.split('\\t')[0] for line in test_lines)\n",
    "common_lemmas_test = train_lemmas.intersection(test_lemmas)\n",
    "print(f'Common lemmas in train and test: {len(common_lemmas_test)}')"
   ]
  }
 ],
 "metadata": {
  "kernelspec": {
   "display_name": "Python 3",
   "language": "python",
   "name": "python3"
  },
  "language_info": {
   "codemirror_mode": {
    "name": "ipython",
    "version": 3
   },
   "file_extension": ".py",
   "mimetype": "text/x-python",
   "name": "python",
   "nbconvert_exporter": "python",
   "pygments_lexer": "ipython3",
   "version": "3.12.0"
  }
 },
 "nbformat": 4,
 "nbformat_minor": 5
}
