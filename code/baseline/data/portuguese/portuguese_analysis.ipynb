{
 "cells": [
  {
   "cell_type": "markdown",
   "id": "e46790ce",
   "metadata": {},
   "source": [
    "# Portuguese Dataset Analysis\n",
    "This notebook swaps columns 2 and 3 of the original file, shuffles the lines, creates two datasets, and calculates AR/ER/IR/OR ending proportions for all three."
   ]
  },
  {
   "cell_type": "code",
   "execution_count": 17,
   "id": "2446222f",
   "metadata": {},
   "outputs": [
    {
     "name": "stdout",
     "output_type": "stream",
     "text": [
      "Inverted columns and saved to por\n"
     ]
    }
   ],
   "source": [
    "# Step 1: Invert columns\n",
    "input_file = 'por_original'\n",
    "output_file = 'por'\n",
    "with open(input_file, 'r', encoding='utf8') as fin, open(output_file, 'w', encoding='utf8') as fout:\n",
    "    for line in fin:\n",
    "        parts = line.strip().split('\\t')\n",
    "        if len(parts) == 3:\n",
    "            lemma, form, msd = parts\n",
    "            fout.write(f'{lemma}\\t{msd}\\t{form}\\n')\n",
    "print('Inverted columns and saved to por')"
   ]
  },
  {
   "cell_type": "code",
   "execution_count": 1,
   "id": "bce35270",
   "metadata": {},
   "outputs": [],
   "source": [
    "# Step 2: Shuffle and split into two datasets\n",
    "import random\n",
    "\n",
    "input_file = \"por\"\n",
    "train_file = \"../por.trn\"\n",
    "dev_file = \"../por.dev\"\n",
    "test_file = \"../por.tst\"\n",
    "train_size = 10000\n",
    "dev_size = 1000\n",
    "test_size = 1000\n",
    "\n",
    "# Read all lines from the input file\n",
    "with open(input_file, \"r\", encoding=\"utf-8\") as f:\n",
    "    lines = f.readlines()\n",
    "\n",
    "# Shuffle lines to randomize\n",
    "random.seed(42)  # For reproducibility\n",
    "random.shuffle(lines)\n",
    "\n",
    "# Split into train and test\n",
    "train_lines = lines[:train_size]\n",
    "dev_lines = lines[train_size:train_size + dev_size]\n",
    "test_lines = lines[train_size + dev_size:train_size + dev_size + test_size]\n",
    "\n",
    "# Write train dataset\n",
    "with open(train_file, \"w\", encoding=\"utf-8\") as f:\n",
    "    f.writelines(train_lines)\n",
    "\n",
    "# Write dev dataset\n",
    "with open(dev_file, \"w\", encoding=\"utf-8\") as f:\n",
    "    f.writelines(dev_lines)\n",
    "\n",
    "# Write test dataset\n",
    "with open(test_file, \"w\", encoding=\"utf-8\") as f:\n",
    "    f.writelines(test_lines)"
   ]
  },
  {
   "cell_type": "code",
   "execution_count": null,
   "id": "24553787",
   "metadata": {},
   "outputs": [],
   "source": [
    "# Step 3: Calculate AR/ER/IR/OR ending proportions\n",
    "def ending_proportion(lines):\n",
    "    ar, er, ir, orr = 0, 0, 0, 0\n",
    "    for line in lines:\n",
    "        parts = line.strip().split('\\t')\n",
    "        if len(parts) >= 1:\n",
    "            lemma = parts[0]\n",
    "            if lemma.endswith('ar'):\n",
    "                ar += 1\n",
    "            elif lemma.endswith('er'):\n",
    "                er += 1\n",
    "            elif lemma.endswith('ir'):\n",
    "                ir += 1\n",
    "            elif lemma.endswith('or') or lemma.endswith('ôr'):\n",
    "                orr += 1\n",
    "            else:\n",
    "                print(f'Unexpected ending in lemma: {lemma}')\n",
    "    total = ar + er + ir + orr\n",
    "    return {'AR': ar, 'ER': er, 'IR': ir, 'OR': orr, 'Total': total,\n",
    "            'AR%': ar/total if total else 0,\n",
    "            'ER%': er/total if total else 0,\n",
    "            'IR%': ir/total if total else 0,\n",
    "            'OR%': orr/total if total else 0}\n",
    "\n",
    "# write to output file\n",
    "with open('ending_proportions.txt', 'w', encoding='utf-8') as f:\n",
    "    orig = ending_proportion(lines)\n",
    "    train = ending_proportion(train_lines)\n",
    "    test = ending_proportion(test_lines)\n",
    "    for name, props in zip(['Original proportions', 'Training set proportions', 'Test set proportions'], [orig, train, test]):\n",
    "        f.write(f\"{name}:\\n\")\n",
    "        f.write(f\"  Total: {props['Total']}\\n\")\n",
    "        f.write(f\"  AR: {props['AR']} ({props['AR%']*100:.2f}%)\\n\")\n",
    "        f.write(f\"  ER: {props['ER']} ({props['ER%']*100:.2f}%)\\n\")\n",
    "        f.write(f\"  IR: {props['IR']} ({props['IR%']*100:.2f}%)\\n\")\n",
    "        f.write(f\"  OR: {props['OR']} ({props['OR%']*100:.2f}%)\\n\\n\")"
   ]
  },
  {
   "cell_type": "markdown",
   "id": "5e6f0ce4",
   "metadata": {},
   "source": [
    "## Results\n",
    "The AR/ER/IR ending proportions for the original file, dataset1, and dataset2 are printed above."
   ]
  }
 ],
 "metadata": {
  "kernelspec": {
   "display_name": "Python 3",
   "language": "python",
   "name": "python3"
  },
  "language_info": {
   "codemirror_mode": {
    "name": "ipython",
    "version": 3
   },
   "file_extension": ".py",
   "mimetype": "text/x-python",
   "name": "python",
   "nbconvert_exporter": "python",
   "pygments_lexer": "ipython3",
   "version": "3.12.0"
  }
 },
 "nbformat": 4,
 "nbformat_minor": 5
}
