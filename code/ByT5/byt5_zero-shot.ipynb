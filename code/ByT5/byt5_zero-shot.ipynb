{
 "cells": [
  {
   "cell_type": "markdown",
   "id": "c8ff676c",
   "metadata": {},
   "source": [
    "# ByT5 Zero-Shot Morphological Inflection\n",
    "This notebook demonstrates zero-shot morphological inflection using the ByT5 model. It loads the model once, reads test data, performs batched predictions, and saves results."
   ]
  },
  {
   "cell_type": "markdown",
   "id": "cd7b6310",
   "metadata": {},
   "source": [
    "## 1. Load Required Libraries and ByT5 Model\n",
    "This cell loads PyTorch, Hugging Face Transformers, tqdm, and the ByT5 model/tokenizer. The model is loaded once and moved to GPU if available."
   ]
  },
  {
   "cell_type": "code",
   "execution_count": 1,
   "id": "c235c0ce",
   "metadata": {},
   "outputs": [
    {
     "name": "stderr",
     "output_type": "stream",
     "text": [
      "/mnt/c/Users/muril/Documents/Estudos/TUM/bachelor-thesis/code/.venv/lib/python3.8/site-packages/tqdm/auto.py:21: TqdmWarning: IProgress not found. Please update jupyter and ipywidgets. See https://ipywidgets.readthedocs.io/en/stable/user_install.html\n",
      "  from .autonotebook import tqdm as notebook_tqdm\n"
     ]
    },
    {
     "name": "stdout",
     "output_type": "stream",
     "text": [
      "Model loaded on device: cuda\n"
     ]
    }
   ],
   "source": [
    "import torch\n",
    "from transformers import AutoModelForSeq2SeqLM, AutoTokenizer\n",
    "from tqdm import tqdm\n",
    "\n",
    "# Use GPU if available\n",
    "if not torch.cuda.is_available():\n",
    "    print(\"CUDA is not available. Exiting.\")\n",
    "    raise SystemExit\n",
    "\n",
    "device = torch.device(\"cuda\")\n",
    "model_name = \"google/byt5-small\"\n",
    "tokenizer = AutoTokenizer.from_pretrained(model_name)\n",
    "model = AutoModelForSeq2SeqLM.from_pretrained(model_name)\n",
    "model = model.to(device)\n",
    "print(f\"Model loaded on device: {device}\")"
   ]
  },
  {
   "cell_type": "markdown",
   "id": "b3c394b6",
   "metadata": {},
   "source": [
    "## 2. Read and Preview Test Data\n",
    "This cell reads the test set (e.g., eng.tst) and previews a few examples."
   ]
  },
  {
   "cell_type": "code",
   "execution_count": null,
   "id": "c973a84e",
   "metadata": {},
   "outputs": [],
   "source": [
    "# Path to test set (English)\n",
    "test_path = \"../baseline/data/eng.tst\"\n",
    "\n",
    "# Read test set\n",
    "test_lines = []\n",
    "with open(test_path, \"r\", encoding=\"utf-8\") as f:\n",
    "    for line in f:\n",
    "        line = line.strip()\n",
    "        if line:\n",
    "            test_lines.append(line)\n",
    "\n",
    "# Preview first 5 examples\n",
    "for line in test_lines[:5]:\n",
    "    print(line)"
   ]
  },
  {
   "cell_type": "markdown",
   "id": "66f823ce",
   "metadata": {},
   "source": [
    "## 3. Batched Zero-Shot Prediction\n",
    "This cell runs ByT5 in batches, using a task-specific prompt, and displays predictions with a progress bar."
   ]
  },
  {
   "cell_type": "code",
   "execution_count": null,
   "id": "75ac1303",
   "metadata": {},
   "outputs": [],
   "source": [
    "batch_size = 16\n",
    "results = []\n",
    "start_time = time.time()\n",
    "num_examples = len(test_lines)\n",
    "for i in tqdm(range(0, num_examples, batch_size), desc=\"Predicting\", unit=\"batch\"):\n",
    "    batch_lines = test_lines[i:i+batch_size]\n",
    "    batch_inputs = []\n",
    "    for line in batch_lines:\n",
    "        parts = line.split(\"\\t\")\n",
    "        if len(parts) < 2:\n",
    "            continue\n",
    "        lemma, features = parts[0], parts[1]\n",
    "        input_str = f\"Inflect the following verb: {lemma} {features}\"\n",
    "        batch_inputs.append(input_str)\n",
    "    if not batch_inputs:\n",
    "        continue\n",
    "    inputs = tokenizer(batch_inputs, padding=True, return_tensors=\"pt\").to(device)\n",
    "    with torch.no_grad():\n",
    "        output_ids = model.generate(**inputs, max_length=32)\n",
    "    predictions = tokenizer.batch_decode(output_ids, skip_special_tokens=True)\n",
    "    for inp, pred in zip(batch_inputs, predictions):\n",
    "        results.append((inp, pred))\n",
    "elapsed = time.time() - start_time\n",
    "print(f\"Total time: {elapsed:.2f} seconds\")\n",
    "# Show first 5 predictions\n",
    "for inp, pred in results[:5]:\n",
    "    print(f\"Input: {inp}\\tPrediction: {pred}\")"
   ]
  },
  {
   "cell_type": "markdown",
   "id": "e4bea970",
   "metadata": {},
   "source": [
    "## 4. Save Predictions to File\n",
    "This cell saves all predictions to a text file for further analysis."
   ]
  },
  {
   "cell_type": "code",
   "execution_count": null,
   "id": "5b128239",
   "metadata": {},
   "outputs": [],
   "source": [
    "output_path = \"output/predictions_eng.txt\"\n",
    "with open(output_path, \"w\", encoding=\"utf-8\") as f:\n",
    "    for inp, pred in results:\n",
    "        f.write(f\"{inp}\\t{pred}\\n\")\n",
    "print(f\"Predictions saved to {output_path}\")"
   ]
  }
 ],
 "metadata": {
  "kernelspec": {
   "display_name": ".venv",
   "language": "python",
   "name": "python3"
  },
  "language_info": {
   "codemirror_mode": {
    "name": "ipython",
    "version": 3
   },
   "file_extension": ".py",
   "mimetype": "text/x-python",
   "name": "python",
   "nbconvert_exporter": "python",
   "pygments_lexer": "ipython3",
   "version": "3.8.10"
  }
 },
 "nbformat": 4,
 "nbformat_minor": 5
}
